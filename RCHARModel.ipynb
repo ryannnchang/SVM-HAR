{
  "nbformat": 4,
  "nbformat_minor": 0,
  "metadata": {
    "colab": {
      "provenance": [],
      "authorship_tag": "ABX9TyOsqhIbyqdzQuzOZZ8WBAQr",
      "include_colab_link": true
    },
    "kernelspec": {
      "name": "python3",
      "display_name": "Python 3"
    },
    "language_info": {
      "name": "python"
    }
  },
  "cells": [
    {
      "cell_type": "markdown",
      "metadata": {
        "id": "view-in-github",
        "colab_type": "text"
      },
      "source": [
        "<a href=\"https://colab.research.google.com/github/ryannnchang/SVM-HAR/blob/main/RCHARModel.ipynb\" target=\"_parent\"><img src=\"https://colab.research.google.com/assets/colab-badge.svg\" alt=\"Open In Colab\"/></a>"
      ]
    },
    {
      "cell_type": "markdown",
      "source": [
        "# Creating a Binary Classification Model in Machine Learning Using SciKit-Learn\n",
        "### Ryan Chang | June 26, 2025 | Biomedic.AI Lab\n",
        "\n",
        "\n",
        "In this google colab, I will creating a SVM binary classification model attempts predicts the difference between walking and non-walking.\n",
        "\n",
        "The dataset used is the from the UCI HAR dataset. https://archive.ics.uci.edu/dataset/240/human+activity+recognition+using+smartphones\n",
        "\n",
        "\n"
      ],
      "metadata": {
        "id": "ogiLRX0kOWZe"
      }
    },
    {
      "cell_type": "markdown",
      "source": [
        "#Getting data from HAR dataset\n",
        "Using only the total acceleration signals"
      ],
      "metadata": {
        "id": "1GPiVtEORpx4"
      }
    },
    {
      "cell_type": "code",
      "execution_count": 196,
      "metadata": {
        "id": "gUmfnD2ZH0xn",
        "colab": {
          "base_uri": "https://localhost:8080/"
        },
        "outputId": "832ff188-67e4-4d9d-d4a6-820e30f9110a"
      },
      "outputs": [
        {
          "output_type": "stream",
          "name": "stdout",
          "text": [
            "(2947, 384)\n"
          ]
        }
      ],
      "source": [
        "##Getting data from UCI HAR dataset\n",
        "\n",
        "import numpy as np\n",
        "from google.colab import files\n",
        "from google.colab import drive\n",
        "import pandas as pd\n",
        "\n",
        "total_acc_x_test = np.loadtxt(\"/content/drive/MyDrive/HAR Dataset/UCI HAR Dataset/test/Inertial Signals/total_acc_x_test.txt\")\n",
        "total_acc_y_test = np.loadtxt(\"/content/drive/MyDrive/HAR Dataset/UCI HAR Dataset/test/Inertial Signals/total_acc_y_test.txt\")\n",
        "total_acc_z_test = np.loadtxt(\"/content/drive/MyDrive/HAR Dataset/UCI HAR Dataset/test/Inertial Signals/total_acc_z_test.txt\")\n",
        "\n",
        "total_acc_x_train = np.loadtxt(\"/content/drive/MyDrive/HAR Dataset/UCI HAR Dataset/train/Inertial Signals/total_acc_x_train.txt\")\n",
        "total_acc_y_train = np.loadtxt(\"/content/drive/MyDrive/HAR Dataset/UCI HAR Dataset/train/Inertial Signals/total_acc_y_train.txt\")\n",
        "total_acc_z_train = np.loadtxt(\"/content/drive/MyDrive/HAR Dataset/UCI HAR Dataset/train/Inertial Signals/total_acc_z_train.txt\")\n",
        "\n",
        "y_test = np.loadtxt(\"/content/drive/MyDrive/HAR Dataset/UCI HAR Dataset/test/y_test.txt\")\n",
        "y_train = np.loadtxt(\"/content/drive/MyDrive/HAR Dataset/UCI HAR Dataset/train/y_train.txt\")\n",
        "\n",
        "y_test -= 1\n",
        "y_train -= 1\n",
        "\n",
        "X_test = np.concatenate((total_acc_x_test, total_acc_y_test, total_acc_z_test), axis=1)\n",
        "print(X_test.shape)\n"
      ]
    },
    {
      "cell_type": "markdown",
      "source": [
        "## Converting HAR dataset into walking and non-walking\n",
        "HAR dataset contains 6 classes, however for this project I will only be detecting whether the person is walking or not"
      ],
      "metadata": {
        "id": "pk3r9DlSR2Om"
      }
    },
    {
      "cell_type": "code",
      "source": [
        "##Counting how many classes there are in test and train\n",
        "unique, counts = np.unique(y_test, return_counts=True)\n",
        "unique2, counts2 = np.unique(y_train, return_counts=True)\n",
        "\n",
        "print(dict(zip(unique, counts)))\n",
        "print(dict(zip(unique2, counts2)))"
      ],
      "metadata": {
        "colab": {
          "base_uri": "https://localhost:8080/"
        },
        "id": "VEvS6-d2Pvf7",
        "outputId": "eb9eafc0-68d9-43db-97c7-3f071616ac11"
      },
      "execution_count": 197,
      "outputs": [
        {
          "output_type": "stream",
          "name": "stdout",
          "text": [
            "{np.float64(0.0): np.int64(496), np.float64(1.0): np.int64(471), np.float64(2.0): np.int64(420), np.float64(3.0): np.int64(491), np.float64(4.0): np.int64(532), np.float64(5.0): np.int64(537)}\n",
            "{np.float64(0.0): np.int64(1226), np.float64(1.0): np.int64(1073), np.float64(2.0): np.int64(986), np.float64(3.0): np.int64(1286), np.float64(4.0): np.int64(1374), np.float64(5.0): np.int64(1407)}\n"
          ]
        }
      ]
    },
    {
      "cell_type": "code",
      "source": [
        "## Changing anything that is not into a one\n",
        "for i in range(len(y_train)):\n",
        "  if y_train[i] != 0.0:\n",
        "    y_train[i] = 1.0\n",
        "\n",
        "for i in range(len(y_test)):\n",
        "  if y_test[i] != 0.0:\n",
        "    y_test[i] = 1.0"
      ],
      "metadata": {
        "id": "fT_PCyQdMLgS"
      },
      "execution_count": 198,
      "outputs": []
    },
    {
      "cell_type": "code",
      "source": [
        "##Recounting Data\n",
        "unique1, counts1 = np.unique(y_test, return_counts=True)\n",
        "unique2, counts2 = np.unique(y_train, return_counts=True)\n",
        "\n",
        "print(\"Test Data\", dict(zip(unique1, counts1)))\n",
        "print(\"Train Data\",dict(zip(unique2, counts2)))"
      ],
      "metadata": {
        "colab": {
          "base_uri": "https://localhost:8080/"
        },
        "id": "hrercGwWRkgO",
        "outputId": "3069a0fd-caa8-47b3-faee-1d15638eec1e"
      },
      "execution_count": 199,
      "outputs": [
        {
          "output_type": "stream",
          "name": "stdout",
          "text": [
            "Test Data {np.float64(0.0): np.int64(496), np.float64(1.0): np.int64(2451)}\n",
            "Train Data {np.float64(0.0): np.int64(1226), np.float64(1.0): np.int64(6126)}\n"
          ]
        }
      ]
    },
    {
      "cell_type": "markdown",
      "source": [
        "##Balancing the Dataset"
      ],
      "metadata": {
        "id": "TF6sGEg3SS6K"
      }
    },
    {
      "cell_type": "code",
      "source": [
        "##Balancing the train dataset\n",
        "from imblearn.under_sampling import RandomUnderSampler\n",
        "rus = RandomUnderSampler(random_state=42)\n",
        "\n",
        "flatten_X = np.concatenate((total_acc_x_train, total_acc_y_train, total_acc_z_train), axis=1)\n",
        "\n",
        "X_resampled, y_resampled = rus.fit_resample(flatten_X, y_train)\n",
        "X_train = X_resampled"
      ],
      "metadata": {
        "id": "wU_gDdcqSWk6"
      },
      "execution_count": 200,
      "outputs": []
    },
    {
      "cell_type": "code",
      "source": [
        "unique2, counts2 = np.unique(y_resampled, return_counts=True)\n",
        "\n",
        "print(dict(zip(unique2, counts2)))"
      ],
      "metadata": {
        "colab": {
          "base_uri": "https://localhost:8080/"
        },
        "id": "Q2LOrXD_b25n",
        "outputId": "d33f5c70-5f15-4931-a6f5-9817ecc07dd7"
      },
      "execution_count": 201,
      "outputs": [
        {
          "output_type": "stream",
          "name": "stdout",
          "text": [
            "{np.float64(0.0): np.int64(1226), np.float64(1.0): np.int64(1226)}\n"
          ]
        }
      ]
    },
    {
      "cell_type": "markdown",
      "source": [
        "## Creating the Model V1"
      ],
      "metadata": {
        "id": "IrJfCjGYcGyx"
      }
    },
    {
      "cell_type": "code",
      "source": [
        "#Importing SMV using Scikit learn built-in library\n",
        "from sklearn.svm import SVC\n",
        "from sklearn.metrics import accuracy_score\n",
        "\n",
        "#Getting SMV from SciKit learn\n",
        "svc=SVC()\n",
        "svc.fit(X_train,y_resampled)\n",
        "y_pred=svc.predict(X_test)\n",
        "\n",
        "print('Model accuracy score with default hyperparameters: {0:0.4f}'. format(accuracy_score(y_test, y_pred)))\n"
      ],
      "metadata": {
        "colab": {
          "base_uri": "https://localhost:8080/"
        },
        "id": "01J-x4wjXAv-",
        "outputId": "02921301-622a-4df1-cedf-72869592c1bc"
      },
      "execution_count": 202,
      "outputs": [
        {
          "output_type": "stream",
          "name": "stdout",
          "text": [
            "Model accuracy score with default hyperparameters: 0.5772\n"
          ]
        }
      ]
    },
    {
      "cell_type": "code",
      "source": [
        "#Generating Confusion matrix\n",
        "from sklearn.metrics import confusion_matrix\n",
        "from sklearn.metrics import ConfusionMatrixDisplay\n",
        "import matplotlib.pyplot as plt\n",
        "\n",
        "cm = confusion_matrix(y_test, y_pred)\n",
        "\n",
        "class_names = ['Walking', 'Not Walking']\n",
        "disp = ConfusionMatrixDisplay(confusion_matrix=cm, display_labels=class_names)\n",
        "disp.plot(cmap=plt.cm.Blues)\n",
        "plt.title(\"Confusion Matrix\")\n",
        "plt.show()\n"
      ],
      "metadata": {
        "colab": {
          "base_uri": "https://localhost:8080/",
          "height": 472
        },
        "id": "Zaws_pPAha0X",
        "outputId": "55446876-04d9-4ffa-81d0-501f9190c222"
      },
      "execution_count": 203,
      "outputs": [
        {
          "output_type": "display_data",
          "data": {
            "text/plain": [
              "<Figure size 640x480 with 2 Axes>"
            ],
            "image/png": "[encoded data removed]"
          },
          "metadata": {}
        }
      ]
    },
    {
      "cell_type": "markdown",
      "source": [
        "# Feature extraction\n",
        "Flattening the windows and inputting them into the SVC did not work that well. I did some research and looked more into feature extraction. Based on UCI HAR article about the dataset, they provided"
      ],
      "metadata": {
        "id": "PteCekG4jL07"
      }
    },
    {
      "cell_type": "code",
      "source": [
        "## Changing the data - Assigning features to Time Series data\n",
        "import numpy as np\n",
        "from scipy.stats import entropy\n",
        "\n",
        "X_train3D = np.reshape(X_train, (-1, 3, 128))\n",
        "X_train3D.shape\n",
        "\n",
        "features = []\n",
        "\n",
        "for i in range(len(X_train3D)):\n",
        "  #Mean\n",
        "  mean_x = np.mean(X_train3D[i][0])\n",
        "  mean_y = np.mean(X_train3D[i][1])\n",
        "  mean_z = np.mean(X_train3D[i][2])\n",
        "\n",
        "  #Standard deviation\n",
        "  std_x = np.std(X_train3D[i][0])\n",
        "  std_y = np.std(X_train3D[i][1])\n",
        "  std_z = np.std(X_train3D[i][2])\n",
        "\n",
        "  #Max\n",
        "  max_x = np.max(X_train3D[i][0])\n",
        "  max_y = np.max(X_train3D[i][1])\n",
        "  max_z = np.max(X_train3D[i][2])\n",
        "\n",
        "  #Min\n",
        "  min_x = np.min(X_train3D[i][0])\n",
        "  min_y = np.min(X_train3D[i][1])\n",
        "  min_z = np.min(X_train3D[i][2])\n",
        "\n",
        "  #average of squazes\n",
        "  square_x = np.mean(np.square(X_train3D[i][0]))\n",
        "  square_y = np.mean(np.square(X_train3D[i][1]))\n",
        "  square_z = np.mean(np.square(X_train3D[i][2]))\n",
        "\n",
        "  #correlation coeffient\n",
        "  corr_xy = np.corrcoef(X_train3D[i][0], X_train3D[i][1])[0][1]\n",
        "  corr_xz = np.corrcoef(X_train3D[i][0], X_train3D[i][2])[0][1]\n",
        "  corr_yz = np.corrcoef(X_train3D[i][1], X_train3D[i][2])[0][1]\n",
        "\n",
        "  features.append([mean_x, mean_y, mean_z, std_x, std_y, std_z, max_x, max_y, max_z, min_x, min_y, min_z, square_x, square_y, square_z, corr_xy, corr_xz, corr_yz])\n",
        "\n",
        "features_train = np.array(features)\n",
        "features_train.shape, X_train3D.shape, y_resampled.shape"
      ],
      "metadata": {
        "colab": {
          "base_uri": "https://localhost:8080/"
        },
        "id": "gsKPJK5zh5Bg",
        "outputId": "9d5054de-6bdf-4d98-858e-e4a646fb1478"
      },
      "execution_count": 204,
      "outputs": [
        {
          "output_type": "execute_result",
          "data": {
            "text/plain": [
              "((2452, 18), (2452, 3, 128), (2452,))"
            ]
          },
          "metadata": {},
          "execution_count": 204
        }
      ]
    },
    {
      "cell_type": "code",
      "source": [
        "##Changing testing Data\n",
        "features_test = []\n",
        "X_test3D = np.stack((total_acc_x_test, total_acc_y_test, total_acc_z_test), axis=1)\n",
        "\n",
        "for i in range(len(X_test3D)):\n",
        "  #Mean\n",
        "  mean_x = np.mean(X_test3D[i][0])\n",
        "  mean_y = np.mean(X_test3D[i][1])\n",
        "  mean_z = np.mean(X_test3D[i][2])\n",
        "\n",
        "  #Standard deviation\n",
        "  std_x = np.std(X_test3D[i][0])\n",
        "  std_y = np.std(X_test3D[i][1])\n",
        "  std_z = np.std(X_test3D[i][2])\n",
        "\n",
        "  #Max\n",
        "  max_x = np.max(X_test3D[i][0])\n",
        "  max_y = np.max(X_test3D[i][1])\n",
        "  max_z = np.max(X_test3D[i][2])\n",
        "\n",
        "  #Min\n",
        "  min_x = np.min(X_test3D[i][0])\n",
        "  min_y = np.min(X_test3D[i][1])\n",
        "  min_z = np.min(X_test3D[i][2])\n",
        "\n",
        "  #average of squares\n",
        "  square_x = np.mean(np.square(X_test3D[i][0]))\n",
        "  square_y = np.mean(np.square(X_test3D[i][1]))\n",
        "  square_z = np.mean(np.square(X_test3D[i][2]))\n",
        "\n",
        "  #correlation coefficient\n",
        "  corr_xy = np.corrcoef(X_test3D[i][0], X_test3D[i][1])[0][1]\n",
        "  corr_xz = np.corrcoef(X_test3D[i][0], X_test3D[i][2])[0][1]\n",
        "  corr_yz = np.corrcoef(X_test3D[i][1], X_test3D[i][2])[0][1]\n",
        "\n",
        "  features_test.append([mean_x, mean_y, mean_z, std_x, std_y, std_z, max_x, max_y, max_z, min_x, min_y, min_z, square_x, square_y, square_z, corr_xy, corr_xz, corr_yz])\n",
        "\n",
        "features_test = np.array(features_test)\n",
        "features_test.shape, X_test3D.shape, y_test.shape\n",
        "\n"
      ],
      "metadata": {
        "colab": {
          "base_uri": "https://localhost:8080/"
        },
        "id": "zf2e-NGExOAi",
        "outputId": "ba43fbad-40cf-4cbf-c740-cb08494ab65c"
      },
      "execution_count": 205,
      "outputs": [
        {
          "output_type": "execute_result",
          "data": {
            "text/plain": [
              "((2947, 18), (2947, 3, 128), (2947,))"
            ]
          },
          "metadata": {},
          "execution_count": 205
        }
      ]
    },
    {
      "cell_type": "markdown",
      "source": [
        "##Creating Model V2 using 18 features extracted"
      ],
      "metadata": {
        "id": "JTl-00Kyufuv"
      }
    },
    {
      "cell_type": "code",
      "source": [
        "#Importing SMV using Scikit learn built-in library\n",
        "from sklearn.svm import SVC\n",
        "from sklearn.metrics import accuracy_score\n",
        "\n",
        "#Getting SMV from SciKit learn\n",
        "svcv2=SVC(kernel='rbf', C=252)\n",
        "svcv2.fit(features, y_resampled)\n",
        "y_pred2 = svcv2.predict(features_test)\n",
        "\n",
        "print('Model accuracy score with 18 selected features: {0:0.4f}'. format(accuracy_score(y_test, y_pred2)))"
      ],
      "metadata": {
        "colab": {
          "base_uri": "https://localhost:8080/"
        },
        "id": "B3wwtitLu25-",
        "outputId": "6ee0b84e-fcdc-4ab7-b0fa-93e8c084bde2"
      },
      "execution_count": 232,
      "outputs": [
        {
          "output_type": "stream",
          "name": "stdout",
          "text": [
            "Model accuracy score with 18 selected features: 0.9308\n"
          ]
        }
      ]
    },
    {
      "cell_type": "code",
      "source": [
        "#Generating Confusion matrix\n",
        "from sklearn.metrics import confusion_matrix\n",
        "from sklearn.metrics import ConfusionMatrixDisplay\n",
        "import matplotlib.pyplot as plt\n",
        "\n",
        "cm = confusion_matrix(y_test, y_pred2)\n",
        "\n",
        "class_names = ['Walking', 'Not Walking']\n",
        "disp = ConfusionMatrixDisplay(confusion_matrix=cm, display_labels=class_names)\n",
        "disp.plot(cmap=plt.cm.Blues)\n",
        "plt.title(\"Confusion Matrix\")\n",
        "plt.show()"
      ],
      "metadata": {
        "colab": {
          "base_uri": "https://localhost:8080/",
          "height": 472
        },
        "id": "G9yWcuU1yufI",
        "outputId": "35b49a0c-6dad-437c-a084-7d13caa943ef"
      },
      "execution_count": 233,
      "outputs": [
        {
          "output_type": "display_data",
          "data": {
            "text/plain": [
              "<Figure size 640x480 with 2 Axes>"
            ],
            "image/png": "[encoded data removed]"
          },
          "metadata": {}
        }
      ]
    },
    {
      "cell_type": "code",
      "source": [],
      "metadata": {
        "id": "otwjH_LNOAJa"
      },
      "execution_count": null,
      "outputs": []
    }
  ]
}